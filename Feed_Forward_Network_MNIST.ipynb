{
  "nbformat": 4,
  "nbformat_minor": 0,
  "metadata": {
    "colab": {
      "name": "Feed Forward Network MNIST.ipynb",
      "provenance": [],
      "include_colab_link": true
    },
    "kernelspec": {
      "name": "python3",
      "display_name": "Python 3"
    },
    "accelerator": "GPU"
  },
  "cells": [
    {
      "cell_type": "markdown",
      "metadata": {
        "id": "view-in-github",
        "colab_type": "text"
      },
      "source": [
        "<a href=\"https://colab.research.google.com/github/Emanuel498/AprendoGit/blob/master/Feed_Forward_Network_MNIST.ipynb\" target=\"_parent\"><img src=\"https://colab.research.google.com/assets/colab-badge.svg\" alt=\"Open In Colab\"/></a>"
      ]
    },
    {
      "cell_type": "code",
      "metadata": {
        "id": "C88IhD6GA_rC",
        "colab_type": "code",
        "colab": {}
      },
      "source": [
        "# Refs.\n",
        "# https://victorzhou.com/blog/keras-neural-network-tutorial/\n",
        "# https://wtfleming.github.io/2019/04/21/keras-mnist/"
      ],
      "execution_count": null,
      "outputs": []
    },
    {
      "cell_type": "markdown",
      "metadata": {
        "id": "vBXCrxsNca68",
        "colab_type": "text"
      },
      "source": [
        "# Preparación de los datos"
      ]
    },
    {
      "cell_type": "code",
      "metadata": {
        "id": "CSzPCl_bBXGE",
        "colab_type": "code",
        "colab": {
          "base_uri": "https://localhost:8080/",
          "height": 146
        },
        "outputId": "7ef87e09-18be-4d91-8c7a-9aa5355d75f0"
      },
      "source": [
        "# Preparing data \n",
        "import numpy as np\n",
        "from tensorflow.keras.datasets import mnist\n",
        "import matplotlib.pyplot as plt\n",
        "\n",
        "# Load mnist data\n",
        "(train_images, train_labels), (test_images, test_labels) = mnist.load_data()\n",
        "\n",
        "# Display some images\n",
        "_, ax = plt.subplots(1, 10, figsize=(10,10))\n",
        "for i in range(0, 10):\n",
        "    ax[i].axis('off')\n",
        "    ax[i].imshow(train_images[i], cmap=plt.cm.binary)\n",
        "\n",
        "# Image Normalization\n",
        "# Centered data simplifies learning.\n",
        "train_samples = (train_images / 255.0) - 0.5\n",
        "test_samples = (test_images / 255.0) - 0.5\n",
        "\n",
        "# Flatten the images.\n",
        "train_samples = train_samples.reshape((-1, 784))\n",
        "test_samples = test_samples.reshape((-1, 784))\n",
        "\n",
        "print(\"Training dims \", train_samples.shape) # (60000, 784)\n",
        "print(\"Testing dims \", test_samples.shape)  # (10000, 784)"
      ],
      "execution_count": null,
      "outputs": [
        {
          "output_type": "stream",
          "text": [
            "Downloading data from https://storage.googleapis.com/tensorflow/tf-keras-datasets/mnist.npz\n",
            "11493376/11490434 [==============================] - 0s 0us/step\n",
            "Training dims  (60000, 784)\n",
            "Testing dims  (10000, 784)\n"
          ],
          "name": "stdout"
        },
        {
          "output_type": "display_data",
          "data": {
            "image/png": "[encoded data removed]",
            "text/plain": [
              "<Figure size 720x720 with 10 Axes>"
            ]
          },
          "metadata": {
            "tags": [],
            "needs_background": "light"
          }
        }
      ]
    },
    {
      "cell_type": "markdown",
      "metadata": {
        "id": "NV5goqhdciWJ",
        "colab_type": "text"
      },
      "source": [
        "# Creación de la red neuronal y entrenamiento"
      ]
    },
    {
      "cell_type": "code",
      "metadata": {
        "id": "gkXTVmFAEMWo",
        "colab_type": "code",
        "colab": {
          "base_uri": "https://localhost:8080/",
          "height": 1000
        },
        "outputId": "bea063cc-37e4-495f-af9c-3c62f2b0397b"
      },
      "source": [
        "# Model creation\n",
        "from tensorflow.keras.models import Sequential\n",
        "from tensorflow.keras.layers import Dense, Dropout, Activation, Flatten\n",
        "from tensorflow.keras.utils import to_categorical\n",
        "\n",
        "# Model\n",
        "model = Sequential()\n",
        "model.add( Dense(16, activation='relu', input_shape=(784,)) )\n",
        "model.add( Dense(10, activation='softmax') )\n",
        "\n",
        "# Display model details\n",
        "model.summary()\n",
        "\n",
        "# Model optimization\n",
        "model.compile(optimizer='adam',\n",
        "              loss='categorical_crossentropy',\n",
        "              metrics=['accuracy'])\n",
        "\n",
        "# Training\n",
        "history = model.fit(\n",
        "    train_samples,\n",
        "    to_categorical(train_labels),\n",
        "    epochs=100,\n",
        "    batch_size=32,\n",
        "    validation_data=(test_samples,to_categorical(test_labels))\n",
        ")"
      ],
      "execution_count": null,
      "outputs": [
        {
          "output_type": "stream",
          "text": [
            "Model: \"sequential\"\n",
            "_________________________________________________________________\n",
            "Layer (type)                 Output Shape              Param #   \n",
            "=================================================================\n",
            "dense (Dense)                (None, 16)                12560     \n",
            "_________________________________________________________________\n",
            "dense_1 (Dense)              (None, 10)                170       \n",
            "=================================================================\n",
            "Total params: 12,730\n",
            "Trainable params: 12,730\n",
            "Non-trainable params: 0\n",
            "_________________________________________________________________\n",
            "Epoch 1/100\n",
            "1875/1875 [==============================] - 5s 2ms/step - loss: 0.5055 - accuracy: 0.8521 - val_loss: 0.3273 - val_accuracy: 0.9048\n",
            "Epoch 2/100\n",
            "1875/1875 [==============================] - 4s 2ms/step - loss: 0.3267 - accuracy: 0.9047 - val_loss: 0.3122 - val_accuracy: 0.9063\n",
            "Epoch 3/100\n",
            "1875/1875 [==============================] - 4s 2ms/step - loss: 0.3032 - accuracy: 0.9119 - val_loss: 0.2835 - val_accuracy: 0.9194\n",
            "Epoch 4/100\n",
            "1875/1875 [==============================] - 4s 2ms/step - loss: 0.2864 - accuracy: 0.9172 - val_loss: 0.2688 - val_accuracy: 0.9212\n",
            "Epoch 5/100\n",
            "1875/1875 [==============================] - 4s 2ms/step - loss: 0.2760 - accuracy: 0.9197 - val_loss: 0.2630 - val_accuracy: 0.9257\n",
            "Epoch 6/100\n",
            "1875/1875 [==============================] - 4s 2ms/step - loss: 0.2650 - accuracy: 0.9231 - val_loss: 0.2717 - val_accuracy: 0.9223\n",
            "Epoch 7/100\n",
            "1875/1875 [==============================] - 4s 2ms/step - loss: 0.2583 - accuracy: 0.9234 - val_loss: 0.2507 - val_accuracy: 0.9245\n",
            "Epoch 8/100\n",
            "1875/1875 [==============================] - 5s 2ms/step - loss: 0.2525 - accuracy: 0.9266 - val_loss: 0.2488 - val_accuracy: 0.9280\n",
            "Epoch 9/100\n",
            "1875/1875 [==============================] - 4s 2ms/step - loss: 0.2456 - accuracy: 0.9278 - val_loss: 0.2484 - val_accuracy: 0.9274\n",
            "Epoch 10/100\n",
            "1875/1875 [==============================] - 5s 2ms/step - loss: 0.2412 - accuracy: 0.9307 - val_loss: 0.2389 - val_accuracy: 0.9291\n",
            "Epoch 11/100\n",
            "1875/1875 [==============================] - 5s 2ms/step - loss: 0.2377 - accuracy: 0.9305 - val_loss: 0.2370 - val_accuracy: 0.9331\n",
            "Epoch 12/100\n",
            "1875/1875 [==============================] - 5s 2ms/step - loss: 0.2333 - accuracy: 0.9317 - val_loss: 0.2347 - val_accuracy: 0.9308\n",
            "Epoch 13/100\n",
            "1875/1875 [==============================] - 4s 2ms/step - loss: 0.2295 - accuracy: 0.9334 - val_loss: 0.2300 - val_accuracy: 0.9334\n",
            "Epoch 14/100\n",
            "1875/1875 [==============================] - 4s 2ms/step - loss: 0.2267 - accuracy: 0.9337 - val_loss: 0.2277 - val_accuracy: 0.9347\n",
            "Epoch 15/100\n",
            "1875/1875 [==============================] - 5s 3ms/step - loss: 0.2223 - accuracy: 0.9346 - val_loss: 0.2291 - val_accuracy: 0.9301\n",
            "Epoch 16/100\n",
            "1875/1875 [==============================] - 5s 3ms/step - loss: 0.2198 - accuracy: 0.9358 - val_loss: 0.2228 - val_accuracy: 0.9346\n",
            "Epoch 17/100\n",
            "1875/1875 [==============================] - 5s 2ms/step - loss: 0.2174 - accuracy: 0.9361 - val_loss: 0.2284 - val_accuracy: 0.9320\n",
            "Epoch 18/100\n",
            "1875/1875 [==============================] - 4s 2ms/step - loss: 0.2136 - accuracy: 0.9373 - val_loss: 0.2157 - val_accuracy: 0.9358\n",
            "Epoch 19/100\n",
            "1875/1875 [==============================] - 4s 2ms/step - loss: 0.2112 - accuracy: 0.9374 - val_loss: 0.2071 - val_accuracy: 0.9395\n",
            "Epoch 20/100\n",
            "1875/1875 [==============================] - 4s 2ms/step - loss: 0.2078 - accuracy: 0.9395 - val_loss: 0.2137 - val_accuracy: 0.9372\n",
            "Epoch 21/100\n",
            "1875/1875 [==============================] - 4s 2ms/step - loss: 0.2040 - accuracy: 0.9402 - val_loss: 0.2038 - val_accuracy: 0.9379\n",
            "Epoch 22/100\n",
            "1875/1875 [==============================] - 4s 2ms/step - loss: 0.2028 - accuracy: 0.9400 - val_loss: 0.2137 - val_accuracy: 0.9342\n",
            "Epoch 23/100\n",
            "1875/1875 [==============================] - 4s 2ms/step - loss: 0.2003 - accuracy: 0.9407 - val_loss: 0.2348 - val_accuracy: 0.9299\n",
            "Epoch 24/100\n",
            "1875/1875 [==============================] - 4s 2ms/step - loss: 0.1985 - accuracy: 0.9414 - val_loss: 0.2047 - val_accuracy: 0.9408\n",
            "Epoch 25/100\n",
            "1875/1875 [==============================] - 4s 2ms/step - loss: 0.1962 - accuracy: 0.9420 - val_loss: 0.2043 - val_accuracy: 0.9380\n",
            "Epoch 26/100\n",
            "1875/1875 [==============================] - 4s 2ms/step - loss: 0.1960 - accuracy: 0.9421 - val_loss: 0.2093 - val_accuracy: 0.9363\n",
            "Epoch 27/100\n",
            "1875/1875 [==============================] - 5s 2ms/step - loss: 0.1941 - accuracy: 0.9426 - val_loss: 0.2144 - val_accuracy: 0.9372\n",
            "Epoch 28/100\n",
            "1875/1875 [==============================] - 5s 2ms/step - loss: 0.1930 - accuracy: 0.9434 - val_loss: 0.2126 - val_accuracy: 0.9369\n",
            "Epoch 29/100\n",
            "1875/1875 [==============================] - 4s 2ms/step - loss: 0.1905 - accuracy: 0.9449 - val_loss: 0.2369 - val_accuracy: 0.9243\n",
            "Epoch 30/100\n",
            "1875/1875 [==============================] - 5s 2ms/step - loss: 0.1901 - accuracy: 0.9437 - val_loss: 0.2018 - val_accuracy: 0.9415\n",
            "Epoch 31/100\n",
            "1875/1875 [==============================] - 4s 2ms/step - loss: 0.1890 - accuracy: 0.9437 - val_loss: 0.2138 - val_accuracy: 0.9373\n",
            "Epoch 32/100\n",
            "1875/1875 [==============================] - 4s 2ms/step - loss: 0.1879 - accuracy: 0.9448 - val_loss: 0.2075 - val_accuracy: 0.9399\n",
            "Epoch 33/100\n",
            "1875/1875 [==============================] - 4s 2ms/step - loss: 0.1853 - accuracy: 0.9458 - val_loss: 0.2004 - val_accuracy: 0.9419\n",
            "Epoch 34/100\n",
            "1875/1875 [==============================] - 4s 2ms/step - loss: 0.1863 - accuracy: 0.9447 - val_loss: 0.2037 - val_accuracy: 0.9397\n",
            "Epoch 35/100\n",
            "1875/1875 [==============================] - 4s 2ms/step - loss: 0.1848 - accuracy: 0.9453 - val_loss: 0.2006 - val_accuracy: 0.9392\n",
            "Epoch 36/100\n",
            "1875/1875 [==============================] - 4s 2ms/step - loss: 0.1841 - accuracy: 0.9456 - val_loss: 0.2074 - val_accuracy: 0.9402\n",
            "Epoch 37/100\n",
            "1875/1875 [==============================] - 4s 2ms/step - loss: 0.1823 - accuracy: 0.9457 - val_loss: 0.2120 - val_accuracy: 0.9392\n",
            "Epoch 38/100\n",
            "1875/1875 [==============================] - 4s 2ms/step - loss: 0.1830 - accuracy: 0.9462 - val_loss: 0.1991 - val_accuracy: 0.9418\n",
            "Epoch 39/100\n",
            "1875/1875 [==============================] - 4s 2ms/step - loss: 0.1825 - accuracy: 0.9457 - val_loss: 0.2046 - val_accuracy: 0.9401\n",
            "Epoch 40/100\n",
            "1875/1875 [==============================] - 4s 2ms/step - loss: 0.1804 - accuracy: 0.9469 - val_loss: 0.1974 - val_accuracy: 0.9417\n",
            "Epoch 41/100\n",
            "1875/1875 [==============================] - 4s 2ms/step - loss: 0.1797 - accuracy: 0.9469 - val_loss: 0.2055 - val_accuracy: 0.9404\n",
            "Epoch 42/100\n",
            "1875/1875 [==============================] - 4s 2ms/step - loss: 0.1790 - accuracy: 0.9460 - val_loss: 0.2001 - val_accuracy: 0.9374\n",
            "Epoch 43/100\n",
            "1875/1875 [==============================] - 4s 2ms/step - loss: 0.1793 - accuracy: 0.9472 - val_loss: 0.2090 - val_accuracy: 0.9359\n",
            "Epoch 44/100\n",
            "1875/1875 [==============================] - 4s 2ms/step - loss: 0.1778 - accuracy: 0.9471 - val_loss: 0.2029 - val_accuracy: 0.9409\n",
            "Epoch 45/100\n",
            "1875/1875 [==============================] - 4s 2ms/step - loss: 0.1776 - accuracy: 0.9474 - val_loss: 0.1982 - val_accuracy: 0.9417\n",
            "Epoch 46/100\n",
            "1875/1875 [==============================] - 4s 2ms/step - loss: 0.1774 - accuracy: 0.9477 - val_loss: 0.2088 - val_accuracy: 0.9407\n",
            "Epoch 47/100\n",
            "1875/1875 [==============================] - 4s 2ms/step - loss: 0.1764 - accuracy: 0.9479 - val_loss: 0.2147 - val_accuracy: 0.9372\n",
            "Epoch 48/100\n",
            "1875/1875 [==============================] - 5s 2ms/step - loss: 0.1756 - accuracy: 0.9483 - val_loss: 0.2004 - val_accuracy: 0.9401\n",
            "Epoch 49/100\n",
            "1875/1875 [==============================] - 4s 2ms/step - loss: 0.1747 - accuracy: 0.9480 - val_loss: 0.2008 - val_accuracy: 0.9402\n",
            "Epoch 50/100\n",
            "1875/1875 [==============================] - 4s 2ms/step - loss: 0.1734 - accuracy: 0.9488 - val_loss: 0.2008 - val_accuracy: 0.9417\n",
            "Epoch 51/100\n",
            "1875/1875 [==============================] - 4s 2ms/step - loss: 0.1742 - accuracy: 0.9477 - val_loss: 0.2069 - val_accuracy: 0.9393\n",
            "Epoch 52/100\n",
            "1875/1875 [==============================] - 4s 2ms/step - loss: 0.1737 - accuracy: 0.9482 - val_loss: 0.2015 - val_accuracy: 0.9400\n",
            "Epoch 53/100\n",
            "1875/1875 [==============================] - 4s 2ms/step - loss: 0.1733 - accuracy: 0.9483 - val_loss: 0.2065 - val_accuracy: 0.9394\n",
            "Epoch 54/100\n",
            "1875/1875 [==============================] - 4s 2ms/step - loss: 0.1730 - accuracy: 0.9481 - val_loss: 0.2009 - val_accuracy: 0.9398\n",
            "Epoch 55/100\n",
            "1875/1875 [==============================] - 4s 2ms/step - loss: 0.1718 - accuracy: 0.9485 - val_loss: 0.2062 - val_accuracy: 0.9387\n",
            "Epoch 56/100\n",
            "1875/1875 [==============================] - 4s 2ms/step - loss: 0.1713 - accuracy: 0.9489 - val_loss: 0.2215 - val_accuracy: 0.9343\n",
            "Epoch 57/100\n",
            "1875/1875 [==============================] - 4s 2ms/step - loss: 0.1717 - accuracy: 0.9484 - val_loss: 0.2078 - val_accuracy: 0.9387\n",
            "Epoch 58/100\n",
            "1875/1875 [==============================] - 4s 2ms/step - loss: 0.1718 - accuracy: 0.9487 - val_loss: 0.1985 - val_accuracy: 0.9427\n",
            "Epoch 59/100\n",
            "1875/1875 [==============================] - 4s 2ms/step - loss: 0.1705 - accuracy: 0.9495 - val_loss: 0.2059 - val_accuracy: 0.9408\n",
            "Epoch 60/100\n",
            "1875/1875 [==============================] - 4s 2ms/step - loss: 0.1694 - accuracy: 0.9492 - val_loss: 0.2121 - val_accuracy: 0.9345\n",
            "Epoch 61/100\n",
            "1875/1875 [==============================] - 4s 2ms/step - loss: 0.1692 - accuracy: 0.9503 - val_loss: 0.2096 - val_accuracy: 0.9379\n",
            "Epoch 62/100\n",
            "1875/1875 [==============================] - 4s 2ms/step - loss: 0.1696 - accuracy: 0.9497 - val_loss: 0.1953 - val_accuracy: 0.9414\n",
            "Epoch 63/100\n",
            "1875/1875 [==============================] - 4s 2ms/step - loss: 0.1692 - accuracy: 0.9491 - val_loss: 0.2033 - val_accuracy: 0.9399\n",
            "Epoch 64/100\n",
            "1875/1875 [==============================] - 4s 2ms/step - loss: 0.1677 - accuracy: 0.9496 - val_loss: 0.2199 - val_accuracy: 0.9349\n",
            "Epoch 65/100\n",
            "1875/1875 [==============================] - 4s 2ms/step - loss: 0.1684 - accuracy: 0.9495 - val_loss: 0.2182 - val_accuracy: 0.9352\n",
            "Epoch 66/100\n",
            "1875/1875 [==============================] - 5s 2ms/step - loss: 0.1693 - accuracy: 0.9491 - val_loss: 0.2003 - val_accuracy: 0.9407\n",
            "Epoch 67/100\n",
            "1875/1875 [==============================] - 4s 2ms/step - loss: 0.1666 - accuracy: 0.9508 - val_loss: 0.1961 - val_accuracy: 0.9443\n",
            "Epoch 68/100\n",
            "1875/1875 [==============================] - 4s 2ms/step - loss: 0.1666 - accuracy: 0.9502 - val_loss: 0.2071 - val_accuracy: 0.9384\n",
            "Epoch 69/100\n",
            "1875/1875 [==============================] - 4s 2ms/step - loss: 0.1654 - accuracy: 0.9507 - val_loss: 0.2053 - val_accuracy: 0.9409\n",
            "Epoch 70/100\n",
            "1875/1875 [==============================] - 4s 2ms/step - loss: 0.1656 - accuracy: 0.9500 - val_loss: 0.2139 - val_accuracy: 0.9373\n",
            "Epoch 71/100\n",
            "1875/1875 [==============================] - 4s 2ms/step - loss: 0.1652 - accuracy: 0.9508 - val_loss: 0.2019 - val_accuracy: 0.9406\n",
            "Epoch 72/100\n",
            "1875/1875 [==============================] - 4s 2ms/step - loss: 0.1654 - accuracy: 0.9502 - val_loss: 0.2078 - val_accuracy: 0.9409\n",
            "Epoch 73/100\n",
            "1875/1875 [==============================] - 4s 2ms/step - loss: 0.1649 - accuracy: 0.9503 - val_loss: 0.2113 - val_accuracy: 0.9389\n",
            "Epoch 74/100\n",
            "1875/1875 [==============================] - 4s 2ms/step - loss: 0.1650 - accuracy: 0.9504 - val_loss: 0.2098 - val_accuracy: 0.9381\n",
            "Epoch 75/100\n",
            "1875/1875 [==============================] - 4s 2ms/step - loss: 0.1644 - accuracy: 0.9509 - val_loss: 0.1983 - val_accuracy: 0.9429\n",
            "Epoch 76/100\n",
            "1875/1875 [==============================] - 4s 2ms/step - loss: 0.1644 - accuracy: 0.9514 - val_loss: 0.1969 - val_accuracy: 0.9410\n",
            "Epoch 77/100\n",
            "1875/1875 [==============================] - 4s 2ms/step - loss: 0.1639 - accuracy: 0.9506 - val_loss: 0.2106 - val_accuracy: 0.9380\n",
            "Epoch 78/100\n",
            "1875/1875 [==============================] - 4s 2ms/step - loss: 0.1627 - accuracy: 0.9509 - val_loss: 0.2036 - val_accuracy: 0.9416\n",
            "Epoch 79/100\n",
            "1875/1875 [==============================] - 4s 2ms/step - loss: 0.1624 - accuracy: 0.9517 - val_loss: 0.2136 - val_accuracy: 0.9344\n",
            "Epoch 80/100\n",
            "1875/1875 [==============================] - 4s 2ms/step - loss: 0.1631 - accuracy: 0.9506 - val_loss: 0.1968 - val_accuracy: 0.9432\n",
            "Epoch 81/100\n",
            "1875/1875 [==============================] - 4s 2ms/step - loss: 0.1624 - accuracy: 0.9515 - val_loss: 0.2044 - val_accuracy: 0.9420\n",
            "Epoch 82/100\n",
            "1875/1875 [==============================] - 4s 2ms/step - loss: 0.1621 - accuracy: 0.9517 - val_loss: 0.2012 - val_accuracy: 0.9407\n",
            "Epoch 83/100\n",
            "1875/1875 [==============================] - 4s 2ms/step - loss: 0.1614 - accuracy: 0.9514 - val_loss: 0.2058 - val_accuracy: 0.9396\n",
            "Epoch 84/100\n",
            "1875/1875 [==============================] - 5s 3ms/step - loss: 0.1617 - accuracy: 0.9513 - val_loss: 0.2092 - val_accuracy: 0.9384\n",
            "Epoch 85/100\n",
            "1875/1875 [==============================] - 5s 3ms/step - loss: 0.1613 - accuracy: 0.9514 - val_loss: 0.2088 - val_accuracy: 0.9404\n",
            "Epoch 86/100\n",
            "1875/1875 [==============================] - 5s 3ms/step - loss: 0.1609 - accuracy: 0.9509 - val_loss: 0.2020 - val_accuracy: 0.9399\n",
            "Epoch 87/100\n",
            "1875/1875 [==============================] - 4s 2ms/step - loss: 0.1603 - accuracy: 0.9517 - val_loss: 0.2052 - val_accuracy: 0.9384\n",
            "Epoch 88/100\n",
            "1875/1875 [==============================] - 4s 2ms/step - loss: 0.1611 - accuracy: 0.9516 - val_loss: 0.2044 - val_accuracy: 0.9401\n",
            "Epoch 89/100\n",
            "1875/1875 [==============================] - 4s 2ms/step - loss: 0.1603 - accuracy: 0.9515 - val_loss: 0.1964 - val_accuracy: 0.9437\n",
            "Epoch 90/100\n",
            "1875/1875 [==============================] - 4s 2ms/step - loss: 0.1593 - accuracy: 0.9520 - val_loss: 0.1968 - val_accuracy: 0.9444\n",
            "Epoch 91/100\n",
            "1875/1875 [==============================] - 4s 2ms/step - loss: 0.1602 - accuracy: 0.9515 - val_loss: 0.2070 - val_accuracy: 0.9423\n",
            "Epoch 92/100\n",
            "1875/1875 [==============================] - 4s 2ms/step - loss: 0.1598 - accuracy: 0.9514 - val_loss: 0.2089 - val_accuracy: 0.9403\n",
            "Epoch 93/100\n",
            "1875/1875 [==============================] - 4s 2ms/step - loss: 0.1586 - accuracy: 0.9517 - val_loss: 0.2014 - val_accuracy: 0.9426\n",
            "Epoch 94/100\n",
            "1875/1875 [==============================] - 4s 2ms/step - loss: 0.1580 - accuracy: 0.9521 - val_loss: 0.2163 - val_accuracy: 0.9392\n",
            "Epoch 95/100\n",
            "1875/1875 [==============================] - 5s 2ms/step - loss: 0.1599 - accuracy: 0.9515 - val_loss: 0.2000 - val_accuracy: 0.9427\n",
            "Epoch 96/100\n",
            "1875/1875 [==============================] - 5s 2ms/step - loss: 0.1588 - accuracy: 0.9520 - val_loss: 0.1969 - val_accuracy: 0.9441\n",
            "Epoch 97/100\n",
            "1875/1875 [==============================] - 4s 2ms/step - loss: 0.1586 - accuracy: 0.9516 - val_loss: 0.2039 - val_accuracy: 0.9433\n",
            "Epoch 98/100\n",
            "1875/1875 [==============================] - 4s 2ms/step - loss: 0.1578 - accuracy: 0.9520 - val_loss: 0.1974 - val_accuracy: 0.9427\n",
            "Epoch 99/100\n",
            "1875/1875 [==============================] - 4s 2ms/step - loss: 0.1574 - accuracy: 0.9523 - val_loss: 0.1998 - val_accuracy: 0.9423\n",
            "Epoch 100/100\n",
            "1875/1875 [==============================] - 4s 2ms/step - loss: 0.1584 - accuracy: 0.9518 - val_loss: 0.2070 - val_accuracy: 0.9411\n"
          ],
          "name": "stdout"
        }
      ]
    },
    {
      "cell_type": "code",
      "metadata": {
        "id": "8xJGH6OpHOWE",
        "colab_type": "code",
        "colab": {
          "base_uri": "https://localhost:8080/",
          "height": 573
        },
        "outputId": "ee873e96-3f49-4d44-d2a3-da90eacd2a97"
      },
      "source": [
        "# Visualization of training results\n",
        "import matplotlib.pyplot as plt\n",
        "\n",
        "# summarize history for accuracy\n",
        "plt.plot(history.history['accuracy'])\n",
        "plt.plot(history.history['val_accuracy'],'r')\n",
        "plt.title('model accuracy')\n",
        "plt.ylabel('accuracy')\n",
        "plt.xlabel('epoch')\n",
        "plt.show()\n",
        "\n",
        "# summarize history for loss\n",
        "plt.plot(history.history['loss'])\n",
        "plt.plot(history.history['val_loss'],'r')\n",
        "plt.title('model loss')\n",
        "plt.ylabel('loss')\n",
        "plt.xlabel('epoch')\n",
        "plt.show()"
      ],
      "execution_count": null,
      "outputs": [
        {
          "output_type": "display_data",
          "data": {
            "image/png": "[encoded data removed]",
            "text/plain": [
              "<Figure size 432x288 with 1 Axes>"
            ]
          },
          "metadata": {
            "tags": [],
            "needs_background": "light"
          }
        },
        {
          "output_type": "display_data",
          "data": {
            "image/png": "[encoded data removed]",
            "text/plain": [
              "<Figure size 432x288 with 1 Axes>"
            ]
          },
          "metadata": {
            "tags": [],
            "needs_background": "light"
          }
        }
      ]
    },
    {
      "cell_type": "code",
      "metadata": {
        "id": "ZwNqYPySH7-L",
        "colab_type": "code",
        "colab": {
          "base_uri": "https://localhost:8080/",
          "height": 1000
        },
        "outputId": "7e8368f7-88ec-4d64-ff8e-2b34101d9174"
      },
      "source": [
        "# Visualization of some testing images\n",
        "\n",
        "# Prediction for the first 10 images of test set\n",
        "predictions = model.predict(test_samples[:10])\n",
        "\n",
        "for i in range(0, 10):\n",
        "  plt.figure()\n",
        "  plt.imshow(test_images[i], cmap=plt.cm.binary)\n",
        "  plt.show()\n",
        "  print( predictions[i] )"
      ],
      "execution_count": null,
      "outputs": [
        {
          "output_type": "display_data",
          "data": {
            "image/png": "[encoded data removed]",
            "text/plain": [
              "<Figure size 432x288 with 1 Axes>"
            ]
          },
          "metadata": {
            "tags": [],
            "needs_background": "light"
          }
        },
        {
          "output_type": "stream",
          "text": [
            "[1.0474566e-08 2.7380063e-08 2.9864657e-06 2.1921824e-05 2.1879798e-09\n",
            " 1.1823957e-08 4.8863139e-16 9.9997461e-01 1.5440948e-08 5.1571021e-07]\n"
          ],
          "name": "stdout"
        },
        {
          "output_type": "display_data",
          "data": {
            "image/png": "[encoded data removed]",
            "text/plain": [
              "<Figure size 432x288 with 1 Axes>"
            ]
          },
          "metadata": {
            "tags": [],
            "needs_background": "light"
          }
        },
        {
          "output_type": "stream",
          "text": [
            "[1.3871866e-08 2.8576438e-05 9.9995589e-01 1.5322334e-05 2.5502319e-14\n",
            " 1.4783998e-08 1.5382480e-07 6.4268374e-12 7.8025650e-08 2.4391756e-16]\n"
          ],
          "name": "stdout"
        },
        {
          "output_type": "display_data",
          "data": {
            "image/png": "[encoded data removed]",
            "text/plain": [
              "<Figure size 432x288 with 1 Axes>"
            ]
          },
          "metadata": {
            "tags": [],
            "needs_background": "light"
          }
        },
        {
          "output_type": "stream",
          "text": [
            "[5.5865195e-07 9.9912506e-01 1.3094218e-04 2.0308494e-06 3.2072181e-05\n",
            " 1.1803427e-06 5.6614322e-06 4.4660136e-04 2.5556213e-04 2.8834214e-07]\n"
          ],
          "name": "stdout"
        },
        {
          "output_type": "display_data",
          "data": {
            "image/png": "[encoded data removed]",
            "text/plain": [
              "<Figure size 432x288 with 1 Axes>"
            ]
          },
          "metadata": {
            "tags": [],
            "needs_background": "light"
          }
        },
        {
          "output_type": "stream",
          "text": [
            "[9.9915767e-01 3.5520875e-06 7.2969130e-04 8.5729935e-06 7.1601528e-07\n",
            " 9.4535295e-07 8.9056695e-05 8.3933501e-06 9.9435944e-08 1.3305195e-06]\n"
          ],
          "name": "stdout"
        },
        {
          "output_type": "display_data",
          "data": {
            "image/png": "[encoded data removed]",
            "text/plain": [
              "<Figure size 432x288 with 1 Axes>"
            ]
          },
          "metadata": {
            "tags": [],
            "needs_background": "light"
          }
        },
        {
          "output_type": "stream",
          "text": [
            "[2.1235476e-09 1.3310498e-11 4.0597650e-09 3.3968935e-11 9.9998558e-01\n",
            " 8.5666259e-11 3.5058648e-08 1.6520135e-06 2.4176303e-09 1.2720374e-05]\n"
          ],
          "name": "stdout"
        },
        {
          "output_type": "display_data",
          "data": {
            "image/png": "[encoded data removed]",
            "text/plain": [
              "<Figure size 432x288 with 1 Axes>"
            ]
          },
          "metadata": {
            "tags": [],
            "needs_background": "light"
          }
        },
        {
          "output_type": "stream",
          "text": [
            "[1.1575304e-08 9.9806696e-01 3.2872017e-06 2.2676447e-08 2.9733910e-05\n",
            " 6.8630573e-10 1.2478298e-08 1.8963297e-03 3.5912917e-06 5.6535030e-09]\n"
          ],
          "name": "stdout"
        },
        {
          "output_type": "display_data",
          "data": {
            "image/png": "[encoded data removed]",
            "text/plain": [
              "<Figure size 432x288 with 1 Axes>"
            ]
          },
          "metadata": {
            "tags": [],
            "needs_background": "light"
          }
        },
        {
          "output_type": "stream",
          "text": [
            "[3.5528075e-13 1.2715543e-09 6.1926886e-10 3.7470271e-09 9.9996436e-01\n",
            " 9.6834526e-08 1.7786127e-10 8.7384078e-06 2.0946702e-05 5.9062322e-06]\n"
          ],
          "name": "stdout"
        },
        {
          "output_type": "display_data",
          "data": {
            "image/png": "[encoded data removed]",
            "text/plain": [
              "<Figure size 432x288 with 1 Axes>"
            ]
          },
          "metadata": {
            "tags": [],
            "needs_background": "light"
          }
        },
        {
          "output_type": "stream",
          "text": [
            "[1.1264090e-09 4.9636597e-05 2.1804255e-05 1.1938794e-03 8.5736142e-04\n",
            " 4.4470731e-08 3.0616151e-10 1.7438756e-04 2.7579424e-06 9.9770015e-01]\n"
          ],
          "name": "stdout"
        },
        {
          "output_type": "display_data",
          "data": {
            "image/png": "[encoded data removed]",
            "text/plain": [
              "<Figure size 432x288 with 1 Axes>"
            ]
          },
          "metadata": {
            "tags": [],
            "needs_background": "light"
          }
        },
        {
          "output_type": "stream",
          "text": [
            "[1.9522378e-05 4.0855111e-06 7.2366059e-02 1.1734336e-06 4.7612502e-03\n",
            " 2.7277622e-01 5.7550180e-01 8.7745328e-05 7.4417740e-02 6.4437278e-05]\n"
          ],
          "name": "stdout"
        },
        {
          "output_type": "display_data",
          "data": {
            "image/png": "[encoded data removed]",
            "text/plain": [
              "<Figure size 432x288 with 1 Axes>"
            ]
          },
          "metadata": {
            "tags": [],
            "needs_background": "light"
          }
        },
        {
          "output_type": "stream",
          "text": [
            "[7.3522597e-09 3.9073571e-12 9.1003916e-10 6.6831106e-08 1.1743855e-01\n",
            " 4.8641464e-09 2.3402736e-14 3.6239363e-03 4.1242657e-04 8.7852496e-01]\n"
          ],
          "name": "stdout"
        }
      ]
    },
    {
      "cell_type": "markdown",
      "metadata": {
        "id": "6YRFAN31cxTE",
        "colab_type": "text"
      },
      "source": [
        "# Ejercicio 1\n",
        "\n",
        "Modifique la red de la sección anterior para que tenga dos capas ocultas de 128 neuronas cada una. Observe y discuta la evolución de la función de loss y accuracy tanto en training como en validation. Analice las funciones de activación utilizadas. \n"
      ]
    },
    {
      "cell_type": "markdown",
      "metadata": {
        "id": "ASM4k0z511mu",
        "colab_type": "text"
      },
      "source": [
        "# Ejercicio 2\n",
        "\n",
        "Implemente una red neuronal que permita clasificar las imágenes del dataset que se describe en: https://keras.io/api/datasets/cifar10/"
      ]
    }
  ]
}