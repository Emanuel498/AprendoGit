{
  "nbformat": 4,
  "nbformat_minor": 0,
  "metadata": {
    "colab": {
      "name": "fraud_detection.ipynb",
      "provenance": [],
      "collapsed_sections": [],
      "include_colab_link": true
    },
    "kernelspec": {
      "name": "python3",
      "display_name": "Python 3"
    },
    "accelerator": "GPU"
  },
  "cells": [
    {
      "cell_type": "markdown",
      "metadata": {
        "id": "view-in-github",
        "colab_type": "text"
      },
      "source": [
        "<a href=\"https://colab.research.google.com/github/Emanuel498/AprendoGit/blob/master/fraud_detection.ipynb\" target=\"_parent\"><img src=\"https://colab.research.google.com/assets/colab-badge.svg\" alt=\"Open In Colab\"/></a>"
      ]
    },
    {
      "cell_type": "code",
      "metadata": {
        "id": "W3f05yxKmKaS",
        "colab_type": "code",
        "colab": {
          "base_uri": "https://localhost:8080/",
          "height": 70
        },
        "outputId": "ca062855-69a8-408c-bf61-ea1f763c3bb2"
      },
      "source": [
        "# Import libs\n",
        "import pandas as pd\n",
        "import numpy as np\n",
        "import matplotlib.pyplot as plt\n",
        "import seaborn as sns"
      ],
      "execution_count": null,
      "outputs": [
        {
          "output_type": "stream",
          "text": [
            "/usr/local/lib/python3.6/dist-packages/statsmodels/tools/_testing.py:19: FutureWarning: pandas.util.testing is deprecated. Use the functions in the public API at pandas.testing instead.\n",
            "  import pandas.util.testing as tm\n"
          ],
          "name": "stderr"
        }
      ]
    },
    {
      "cell_type": "code",
      "metadata": {
        "id": "i-eiw-HRmt-g",
        "colab_type": "code",
        "colab": {
          "base_uri": "https://localhost:8080/",
          "height": 34
        },
        "outputId": "300c564d-63e3-4f19-d57f-9a7f170ed586"
      },
      "source": [
        "# Ref.: https://www.kaggle.com/isaikumar/creditcardfraud/version/1\n",
        "# Data frame with credit card data\n",
        "\n",
        "from google_drive_downloader import GoogleDriveDownloader as gdd\n",
        "\n",
        "gdd.download_file_from_google_drive(file_id='1eBBx58FT36BFRTop06wrSF2x8t_Uh0eC',dest_path='./data/creditcard.csv')\n",
        "\n",
        "df = pd.read_csv( './data/creditcard.csv' )"
      ],
      "execution_count": null,
      "outputs": [
        {
          "output_type": "stream",
          "text": [
            "Downloading 1eBBx58FT36BFRTop06wrSF2x8t_Uh0eC into ./data/creditcard.csv... Done.\n"
          ],
          "name": "stdout"
        }
      ]
    },
    {
      "cell_type": "code",
      "metadata": {
        "id": "wFZwJKCcn6fs",
        "colab_type": "code",
        "colab": {
          "base_uri": "https://localhost:8080/",
          "height": 655
        },
        "outputId": "9c5dcfcd-24e9-4318-d211-fe5f0df6c637"
      },
      "source": [
        "# Details on data\n",
        "print(df.shape)\n",
        "print(df.columns)\n",
        "\n",
        "# Compute correlation of features with respect to Class\n",
        "# By default uses Pearson correlation that estimates linear correlation: \n",
        "# +1 or -1 linearly correlated, 0 non linear correlated\n",
        "df.corr()[\"Class\"].sort_values()"
      ],
      "execution_count": null,
      "outputs": [
        {
          "output_type": "stream",
          "text": [
            "(284807, 31)\n",
            "Index(['Time', 'V1', 'V2', 'V3', 'V4', 'V5', 'V6', 'V7', 'V8', 'V9', 'V10',\n",
            "       'V11', 'V12', 'V13', 'V14', 'V15', 'V16', 'V17', 'V18', 'V19', 'V20',\n",
            "       'V21', 'V22', 'V23', 'V24', 'V25', 'V26', 'V27', 'V28', 'Amount',\n",
            "       'Class'],\n",
            "      dtype='object')\n"
          ],
          "name": "stdout"
        },
        {
          "output_type": "execute_result",
          "data": {
            "text/plain": [
              "V17      -0.326481\n",
              "V14      -0.302544\n",
              "V12      -0.260593\n",
              "V10      -0.216883\n",
              "V16      -0.196539\n",
              "V3       -0.192961\n",
              "V7       -0.187257\n",
              "V18      -0.111485\n",
              "V1       -0.101347\n",
              "V9       -0.097733\n",
              "V5       -0.094974\n",
              "V6       -0.043643\n",
              "Time     -0.012323\n",
              "V24      -0.007221\n",
              "V13      -0.004570\n",
              "V15      -0.004223\n",
              "V23      -0.002685\n",
              "V22       0.000805\n",
              "V25       0.003308\n",
              "V26       0.004455\n",
              "Amount    0.005632\n",
              "V28       0.009536\n",
              "V27       0.017580\n",
              "V8        0.019875\n",
              "V20       0.020090\n",
              "V19       0.034783\n",
              "V21       0.040413\n",
              "V2        0.091289\n",
              "V4        0.133447\n",
              "V11       0.154876\n",
              "Class     1.000000\n",
              "Name: Class, dtype: float64"
            ]
          },
          "metadata": {
            "tags": []
          },
          "execution_count": 3
        }
      ]
    },
    {
      "cell_type": "code",
      "metadata": {
        "id": "OK_BZmeErAzQ",
        "colab_type": "code",
        "colab": {
          "base_uri": "https://localhost:8080/",
          "height": 67
        },
        "outputId": "328f160f-fc30-4f1a-c7a5-ac6ae8adbbf6"
      },
      "source": [
        "# Extract features and labels\n",
        "\n",
        "# drop column with Class\n",
        "#X = df.drop(['Class'], axis=1)\n",
        "\n",
        "#\n",
        "# Obs. Modify the following code to select set of features\n",
        "#\n",
        "# The following line allows to select some variables to be used\n",
        "X = df.loc[:,['V17','V10','Amount']]\n",
        "\n",
        "# Class is the target to predict (classify)\n",
        "y = df.Class\n",
        "\n",
        "# Number of samples per class\n",
        "unique, counts = np.unique(y, return_counts=True)\n",
        "for i in range(0,len(unique)):\n",
        "  print('Class %i: Samples %i' % (unique[i], counts[i]) )\n",
        "\n",
        "# Number of attributes\n",
        "print('Number of attributes: %i' % (X.shape)[1])"
      ],
      "execution_count": null,
      "outputs": [
        {
          "output_type": "stream",
          "text": [
            "Class 0: Samples 284315\n",
            "Class 1: Samples 492\n",
            "Number of attributes: 3\n"
          ],
          "name": "stdout"
        }
      ]
    },
    {
      "cell_type": "code",
      "metadata": {
        "id": "546_qM25KkSJ",
        "colab_type": "code",
        "colab": {
          "base_uri": "https://localhost:8080/",
          "height": 235
        },
        "outputId": "9a1afed1-8bd8-4a4c-c813-c20937020162"
      },
      "source": [
        "# Classifier\n",
        "from sklearn.model_selection import cross_val_score\n",
        "from sklearn.pipeline import make_pipeline\n",
        "from sklearn import preprocessing\n",
        "from sklearn.preprocessing import StandardScaler\n",
        "from sklearn.metrics import confusion_matrix\n",
        "from sklearn.model_selection import train_test_split\n",
        "from sklearn.feature_selection import mutual_info_classif\n",
        "from sklearn.naive_bayes import GaussianNB\n",
        "from sklearn.neighbors import KNeighborsClassifier\n",
        "from sklearn.linear_model import LogisticRegression\n",
        "from sklearn.tree import DecisionTreeClassifier\n",
        "\n",
        "# Split train and test \n",
        "# stratify=y means the same % of classes is present in train and test\n",
        "X_train, X_test, y_train, y_test = train_test_split(X, y, test_size=0.5, random_state=0, stratify=y)\n",
        "\n",
        "#\n",
        "# Selection of classifier\n",
        "#\n",
        "#clf = KNeighborsClassifier(n_neighbors=5)\n",
        "#clf = LogisticRegression(solver='lbfgs',max_iter=500)\n",
        "clf = DecisionTreeClassifier()\n",
        "#clf = GaussianNB()\n",
        "\n",
        "# Train classifier\n",
        "clf.fit(X_train,y_train)\n",
        "\n",
        "# Priors GuassianNB\n",
        "#print( clf.class_prior_ )\n",
        "\n",
        "# Coefs Logistic Regression\n",
        "# print( clf.coef_ )\n",
        "\n",
        "# Confusion matrix\n",
        "y_pred = clf.predict(X_test)\n",
        "cm = confusion_matrix(y_test, y_pred)\n",
        "\n",
        "print(' Confusion matrix ------------------')\n",
        "print(cm)\n",
        "\n",
        "sum_diag = sum(cm[i][i] for i in range(2))\n",
        "sum_all = sum(sum(cm))\n",
        "\n",
        "print('\\n % Corr ----------------------------')\n",
        "print( sum_diag/sum_all*100 )\n",
        "\n",
        "\n",
        "# Classification report\n",
        "from sklearn.metrics import classification_report\n",
        "target_names = ['1', '0']\n",
        "\n",
        "print('\\n Classification report ------------------')\n",
        "report = classification_report(y_test, y_pred, target_names=target_names,output_dict=True)\n",
        "print('Class 0 %s: ' % report['0'])\n",
        "print('Class 1 %s: ' % report['1'])\n",
        "\n",
        "# Amount of fraud detected\n",
        "a = X_test.Amount\n",
        "# TP \n",
        "ind = (y_pred == 1) & (y_test == 1)\n",
        "# Amount for TP\n",
        "amount_detected = np.sum( a[ ind ] ) \n",
        "# Total amount of fraud\n",
        "ind = (y_test == 1)\n",
        "amount_total = np.sum( a[ ind ] ) \n",
        "\n",
        "print('\\n Amount ------------------ \\n Detected = %f, Total = %f, Percentage = %f' % (amount_detected, amount_total, (amount_detected/amount_total)*100))"
      ],
      "execution_count": null,
      "outputs": [
        {
          "output_type": "stream",
          "text": [
            " Confusion matrix ------------------\n",
            "[[142097     61]\n",
            " [    80    166]]\n",
            "\n",
            " % Corr ----------------------------\n",
            "99.9009859273616\n",
            "\n",
            " Classification report ------------------\n",
            "Class 0 {'precision': 0.7312775330396476, 'recall': 0.6747967479674797, 'f1-score': 0.7019027484143764, 'support': 246}: \n",
            "Class 1 {'precision': 0.999437321085689, 'recall': 0.9995708999845243, 'f1-score': 0.9995041060720629, 'support': 142158}: \n",
            "\n",
            " Amount ------------------ \n",
            " Detected = 18873.950000, Total = 30229.360000, Percentage = 62.435824\n"
          ],
          "name": "stdout"
        }
      ]
    },
    {
      "cell_type": "markdown",
      "metadata": {
        "id": "BN0t9c7uMU_s",
        "colab_type": "text"
      },
      "source": [
        "# Ejercicio\n",
        "\n",
        "1.   Evaluar los clasificadores con el total de atributos y tomar nota de los indicadores de performance.\n",
        "2.   Encontrar el mejor clasificador con 1 y 2 atributos. Justificar.\n",
        "3.   ¿Cuál sería el peor clasificador?\n",
        "\n",
        "Obs.: Para todos los casos anterior tomar nota de la matriz de confusión, el % de instancias correctamente clasificadas y el monto de fraude detectado.\n",
        "\n",
        "\n"
      ]
    }
  ]
}